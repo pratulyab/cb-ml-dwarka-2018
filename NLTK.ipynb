{
 "cells": [
  {
   "cell_type": "markdown",
   "metadata": {},
   "source": [
    "# Natural Language ToolKit (NLTK)"
   ]
  },
  {
   "cell_type": "code",
   "execution_count": 2,
   "metadata": {},
   "outputs": [],
   "source": [
    "import nltk"
   ]
  },
  {
   "cell_type": "code",
   "execution_count": 1,
   "metadata": {},
   "outputs": [
    {
     "data": {
      "text/plain": [
       "{'quote': \"Don't cry because it's over, smile because it happened.\",\n",
       " 'author': 'Dr. Seuss',\n",
       " 'tags': ['attributed-no-source',\n",
       "  'cry',\n",
       "  'crying',\n",
       "  'experience',\n",
       "  'happiness',\n",
       "  'joy',\n",
       "  'life',\n",
       "  'misattributed-dr-seuss',\n",
       "  'optimism',\n",
       "  'sadness',\n",
       "  'smile',\n",
       "  'smiling'],\n",
       " 'likes': '190302'}"
      ]
     },
     "execution_count": 1,
     "metadata": {},
     "output_type": "execute_result"
    }
   ],
   "source": [
    "import json\n",
    "with open('quotes.json', 'r') as f:\n",
    "    quotes = json.load(f)\n",
    "quotes[0]"
   ]
  },
  {
   "cell_type": "markdown",
   "metadata": {},
   "source": [
    "# Tokenization"
   ]
  },
  {
   "cell_type": "code",
   "execution_count": 7,
   "metadata": {},
   "outputs": [
    {
     "name": "stdout",
     "output_type": "stream",
     "text": [
      "Un-Tokenized Sentence:  Don't cry because it's over, smile because it happened.\n",
      "Tokenized Words: ['Do', \"n't\", 'cry', 'because', 'it', \"'s\", 'over', ',', 'smile', 'because', 'it', 'happened', '.']\n",
      "******************************\n",
      "Continue? y\n",
      "Un-Tokenized Sentence:  I'm selfish, impatient and a little insecure.\n",
      "Tokenized Words: ['I', \"'m\", 'selfish', ',', 'impatient', 'and', 'a', 'little', 'insecure', '.']\n",
      "Un-Tokenized Sentence:  I make mistakes, I am out of control and at times hard to handle.\n",
      "Tokenized Words: ['I', 'make', 'mistakes', ',', 'I', 'am', 'out', 'of', 'control', 'and', 'at', 'times', 'hard', 'to', 'handle', '.']\n",
      "Un-Tokenized Sentence:  But if you can't handle me at my worst, then you sure as hell don't deserve me at my best.\n",
      "Tokenized Words: ['But', 'if', 'you', 'ca', \"n't\", 'handle', 'me', 'at', 'my', 'worst', ',', 'then', 'you', 'sure', 'as', 'hell', 'do', \"n't\", 'deserve', 'me', 'at', 'my', 'best', '.']\n",
      "******************************\n",
      "Continue? y\n",
      "Un-Tokenized Sentence:  Be yourself; everyone else is already taken.\n",
      "Tokenized Words: ['Be', 'yourself', ';', 'everyone', 'else', 'is', 'already', 'taken', '.']\n",
      "******************************\n",
      "Continue? n\n"
     ]
    }
   ],
   "source": [
    "from nltk.tokenize import sent_tokenize, word_tokenize\n",
    "\n",
    "i = 'yes'\n",
    "for quote in quotes:\n",
    "    quote = quote['quote']\n",
    "    if i.lower().startswith('y'):\n",
    "        sentences = sent_tokenize(quote)\n",
    "        for sentence in sentences:\n",
    "            print(\"Un-Tokenized Sentence: \", sentence)\n",
    "            words = word_tokenize(sentence)\n",
    "            print(\"Tokenized Words:\", words)\n",
    "    else:\n",
    "        break\n",
    "    print('***'*10)\n",
    "    i = input(\"Continue? \")"
   ]
  },
  {
   "cell_type": "markdown",
   "metadata": {},
   "source": [
    "# Custom Tokenizers"
   ]
  },
  {
   "cell_type": "code",
   "execution_count": 17,
   "metadata": {},
   "outputs": [
    {
     "data": {
      "text/plain": [
       "['My',\n",
       " 'email',\n",
       " 'addresses',\n",
       " 'are',\n",
       " ':',\n",
       " 'abc',\n",
       " '@',\n",
       " 'gmail.com',\n",
       " 'qwerty',\n",
       " '@',\n",
       " 'gmail.com']"
      ]
     },
     "execution_count": 17,
     "metadata": {},
     "output_type": "execute_result"
    }
   ],
   "source": [
    "custom_sentence = \"My email addresses are: abc@gmail.com qwerty@gmail.com\"\n",
    "word_tokenize(custom_sentence)"
   ]
  },
  {
   "cell_type": "code",
   "execution_count": 18,
   "metadata": {},
   "outputs": [
    {
     "data": {
      "text/plain": [
       "['abc@gmail.com', 'qwerty@gmail.com']"
      ]
     },
     "execution_count": 18,
     "metadata": {},
     "output_type": "execute_result"
    }
   ],
   "source": [
    "from nltk.tokenize import RegexpTokenizer\n",
    "regex_tokenizer = RegexpTokenizer(r'\\w+@\\w+\\.\\w+')\n",
    "regex_tokenizer.tokenize(custom_sentence)"
   ]
  },
  {
   "cell_type": "markdown",
   "metadata": {},
   "source": [
    "# Stopwords, Punctuation, LowerCase"
   ]
  },
  {
   "cell_type": "code",
   "execution_count": 9,
   "metadata": {},
   "outputs": [
    {
     "data": {
      "text/plain": [
       "179"
      ]
     },
     "execution_count": 9,
     "metadata": {},
     "output_type": "execute_result"
    }
   ],
   "source": [
    "from nltk.corpus import stopwords\n",
    "stop_words = stopwords.words('english')\n",
    "len(stop_words)"
   ]
  },
  {
   "cell_type": "code",
   "execution_count": 12,
   "metadata": {},
   "outputs": [
    {
     "data": {
      "text/plain": [
       "'!\"#$%&\\'()*+,-./:;<=>?@[\\\\]^_`{|}~'"
      ]
     },
     "execution_count": 12,
     "metadata": {},
     "output_type": "execute_result"
    }
   ],
   "source": [
    "import string\n",
    "punctuation = list(string.punctuation)\n",
    "''.join(punctuation)"
   ]
  },
  {
   "cell_type": "code",
   "execution_count": 16,
   "metadata": {},
   "outputs": [
    {
     "name": "stdout",
     "output_type": "stream",
     "text": [
      "Don't cry because it's over, smile because it happened.\n"
     ]
    },
    {
     "data": {
      "text/plain": [
       "['Do', \"n't\", 'cry', \"'s\", 'smile', 'happened']"
      ]
     },
     "execution_count": 16,
     "metadata": {},
     "output_type": "execute_result"
    }
   ],
   "source": [
    "print(quotes[0]['quote'])\n",
    "quote_words = word_tokenize(quotes[0]['quote'])\n",
    "cleaned_quote = [w for w in quote_words if (w not in stop_words and w not in punctuation)]\n",
    "cleaned_quote"
   ]
  },
  {
   "cell_type": "markdown",
   "metadata": {},
   "source": [
    "# Stemming, Lemmatization"
   ]
  },
  {
   "cell_type": "code",
   "execution_count": 19,
   "metadata": {},
   "outputs": [],
   "source": [
    "from nltk.stem import PorterStemmer, SnowballStemmer\n",
    "from nltk import WordNetLemmatizer\n",
    "\n",
    "ps = PorterStemmer()\n",
    "ss = SnowballStemmer('english')\n",
    "lemmatizer = WordNetLemmatizer()"
   ]
  },
  {
   "cell_type": "code",
   "execution_count": 20,
   "metadata": {},
   "outputs": [
    {
     "data": {
      "text/plain": [
       "'run'"
      ]
     },
     "execution_count": 20,
     "metadata": {},
     "output_type": "execute_result"
    }
   ],
   "source": [
    "ps.stem(\"Running\")"
   ]
  },
  {
   "cell_type": "code",
   "execution_count": 33,
   "metadata": {},
   "outputs": [
    {
     "data": {
      "text/plain": [
       "'late'"
      ]
     },
     "execution_count": 33,
     "metadata": {},
     "output_type": "execute_result"
    }
   ],
   "source": [
    "ps.stem(\"Lately\")"
   ]
  },
  {
   "cell_type": "code",
   "execution_count": 32,
   "metadata": {},
   "outputs": [
    {
     "data": {
      "text/plain": [
       "'run'"
      ]
     },
     "execution_count": 32,
     "metadata": {},
     "output_type": "execute_result"
    }
   ],
   "source": [
    "lemmatizer.lemmatize(\"ran\", 'v')"
   ]
  },
  {
   "cell_type": "code",
   "execution_count": 34,
   "metadata": {},
   "outputs": [
    {
     "data": {
      "text/plain": [
       "'good'"
      ]
     },
     "execution_count": 34,
     "metadata": {},
     "output_type": "execute_result"
    }
   ],
   "source": [
    "lemmatizer.lemmatize(\"better\", 'a')"
   ]
  },
  {
   "cell_type": "markdown",
   "metadata": {},
   "source": [
    "# Bag of Words"
   ]
  },
  {
   "cell_type": "code",
   "execution_count": 25,
   "metadata": {},
   "outputs": [],
   "source": [
    "all_quotes = []\n",
    "for q in quotes:\n",
    "    q = q['quote']\n",
    "    for sent in sent_tokenize(q):\n",
    "        all_quotes.append(sent)"
   ]
  },
  {
   "cell_type": "code",
   "execution_count": 73,
   "metadata": {},
   "outputs": [],
   "source": [
    "from sklearn.feature_extraction.text import CountVectorizer\n",
    "\n",
    "cv = CountVectorizer()\n",
    "vec = cv.fit_transform(all_quotes)"
   ]
  },
  {
   "cell_type": "code",
   "execution_count": 36,
   "metadata": {},
   "outputs": [
    {
     "name": "stdout",
     "output_type": "stream",
     "text": [
      "  (0, 261)\t1\n",
      "  (0, 554)\t1\n",
      "  (0, 448)\t1\n",
      "  (0, 328)\t2\n",
      "  (0, 50)\t2\n",
      "  (0, 125)\t1\n",
      "  (0, 154)\t1\n",
      "  (1, 317)\t1\n",
      "  (1, 360)\t1\n",
      "  (1, 23)\t1\n",
      "  (1, 303)\t1\n",
      "  (1, 532)\t1\n",
      "  (2, 260)\t1\n",
      "  (2, 622)\t1\n",
      "  (2, 266)\t1\n",
      "  (2, 621)\t1\n",
      "  (2, 41)\t1\n",
      "  (2, 120)\t1\n",
      "  (2, 430)\t1\n",
      "  (2, 446)\t1\n",
      "  (2, 21)\t1\n",
      "  (2, 401)\t1\n",
      "  (2, 380)\t1\n",
      "  (2, 23)\t1\n",
      "  (3, 65)\t1\n",
      "  :\t:\n",
      "  (226, 612)\t1\n",
      "  (226, 212)\t1\n",
      "  (226, 675)\t2\n",
      "  (226, 695)\t1\n",
      "  (226, 219)\t1\n",
      "  (226, 679)\t1\n",
      "  (226, 405)\t1\n",
      "  (226, 426)\t1\n",
      "  (226, 376)\t1\n",
      "  (226, 25)\t1\n",
      "  (226, 707)\t2\n",
      "  (226, 602)\t2\n",
      "  (226, 308)\t1\n",
      "  (226, 603)\t1\n",
      "  (226, 326)\t1\n",
      "  (226, 90)\t1\n",
      "  (226, 300)\t1\n",
      "  (227, 329)\t1\n",
      "  (227, 306)\t1\n",
      "  (227, 463)\t1\n",
      "  (227, 704)\t1\n",
      "  (227, 426)\t1\n",
      "  (227, 522)\t1\n",
      "  (227, 603)\t1\n",
      "  (227, 326)\t1\n"
     ]
    }
   ],
   "source": [
    "print(vec)"
   ]
  },
  {
   "cell_type": "code",
   "execution_count": 28,
   "metadata": {},
   "outputs": [
    {
     "data": {
      "text/plain": [
       "{'don': 154,\n",
       " 'cry': 125,\n",
       " 'because': 50,\n",
       " 'it': 328,\n",
       " 'over': 448,\n",
       " 'smile': 554,\n",
       " 'happened': 261,\n",
       " 'selfish': 532,\n",
       " 'impatient': 303,\n",
       " 'and': 23,\n",
       " 'little': 360,\n",
       " 'insecure': 317,\n",
       " 'make': 380,\n",
       " 'mistakes': 401,\n",
       " 'am': 21,\n",
       " 'out': 446,\n",
       " 'of': 430,\n",
       " 'control': 120,\n",
       " 'at': 41,\n",
       " 'times': 621,\n",
       " 'hard': 266,\n",
       " 'to': 622,\n",
       " 'handle': 260,\n",
       " 'but': 86,\n",
       " 'if': 300,\n",
       " 'you': 719,\n",
       " 'can': 90,\n",
       " 'me': 390,\n",
       " 'my': 410,\n",
       " 'worst': 710,\n",
       " 'then': 606,\n",
       " 'sure': 589,\n",
       " 'as': 37,\n",
       " 'hell': 278,\n",
       " 'deserve': 134,\n",
       " 'best': 65,\n",
       " 'be': 46,\n",
       " 'yourself': 722,\n",
       " 'everyone': 183,\n",
       " 'else': 168,\n",
       " 'is': 326,\n",
       " 'already': 19,\n",
       " 'taken': 593,\n",
       " 'two': 643,\n",
       " 'things': 610,\n",
       " 'are': 30,\n",
       " 'infinite': 313,\n",
       " 'the': 603,\n",
       " 'universe': 649,\n",
       " 'human': 295,\n",
       " 'stupidity': 585,\n",
       " 'not': 424,\n",
       " 'about': 3,\n",
       " 'so': 555,\n",
       " 'many': 384,\n",
       " 'books': 73,\n",
       " 'time': 620,\n",
       " 'who': 686,\n",
       " 'say': 520,\n",
       " 'what': 680,\n",
       " 'feel': 207,\n",
       " 'those': 613,\n",
       " 'mind': 396,\n",
       " 'matter': 388,\n",
       " 'room': 508,\n",
       " 'without': 697,\n",
       " 'like': 357,\n",
       " 'body': 71,\n",
       " 'soul': 567,\n",
       " 've': 656,\n",
       " 'gotta': 252,\n",
       " 'dance': 127,\n",
       " 'there': 607,\n",
       " 'nobody': 422,\n",
       " 'watching': 671,\n",
       " 'love': 370,\n",
       " 'll': 363,\n",
       " 'never': 420,\n",
       " 'hurt': 296,\n",
       " 'sing': 548,\n",
       " 'listening': 359,\n",
       " 'live': 361,\n",
       " 'heaven': 277,\n",
       " 'on': 434,\n",
       " 'earth': 167,\n",
       " 'know': 335,\n",
       " 're': 485,\n",
       " 'in': 308,\n",
       " 'when': 681,\n",
       " 'fall': 200,\n",
       " 'asleep': 39,\n",
       " 'reality': 489,\n",
       " 'finally': 211,\n",
       " 'better': 66,\n",
       " 'than': 601,\n",
       " 'your': 721,\n",
       " 'dreams': 163,\n",
       " 'only': 438,\n",
       " 'once': 435,\n",
       " 'do': 149,\n",
       " 'right': 504,\n",
       " 'enough': 175,\n",
       " 'change': 95,\n",
       " 'that': 602,\n",
       " 'wish': 694,\n",
       " 'see': 528,\n",
       " 'world': 707,\n",
       " 'three': 616,\n",
       " 'words': 705,\n",
       " 'sum': 587,\n",
       " 'up': 652,\n",
       " 'everything': 184,\n",
       " 'learned': 349,\n",
       " 'life': 355,\n",
       " 'goes': 247,\n",
       " 'want': 666,\n",
       " 'man': 383,\n",
       " 'take': 592,\n",
       " 'good': 251,\n",
       " 'look': 366,\n",
       " 'how': 294,\n",
       " 'he': 274,\n",
       " 'treats': 633,\n",
       " 'his': 287,\n",
       " 'inferiors': 312,\n",
       " 'equals': 178,\n",
       " 'walk': 664,\n",
       " 'front': 231,\n",
       " 'may': 389,\n",
       " 'followdon': 216,\n",
       " 'behind': 58,\n",
       " 'leadwalk': 347,\n",
       " 'beside': 64,\n",
       " 'just': 332,\n",
       " 'friend': 227,\n",
       " 'friendship': 229,\n",
       " 'born': 75,\n",
       " 'moment': 402,\n",
       " 'one': 436,\n",
       " 'says': 522,\n",
       " 'another': 25,\n",
       " 'too': 626,\n",
       " 'thought': 615,\n",
       " 'no': 421,\n",
       " 'myself': 411,\n",
       " 'inferior': 311,\n",
       " 'consent': 114,\n",
       " 'tell': 598,\n",
       " 'truth': 639,\n",
       " 'have': 272,\n",
       " 'remember': 497,\n",
       " 'anything': 27,\n",
       " 'someone': 560,\n",
       " 'knows': 338,\n",
       " 'all': 15,\n",
       " 'still': 576,\n",
       " 'loves': 372,\n",
       " 'people': 454,\n",
       " 'will': 689,\n",
       " 'forget': 221,\n",
       " 'said': 514,\n",
       " 'did': 137,\n",
       " 'made': 376,\n",
       " 'them': 605,\n",
       " 'always': 20,\n",
       " 'forgive': 222,\n",
       " 'enemies': 173,\n",
       " 'nothing': 426,\n",
       " 'annoys': 24,\n",
       " 'much': 406,\n",
       " 'rarest': 483,\n",
       " 'thing': 609,\n",
       " 'most': 405,\n",
       " 'exist': 188,\n",
       " 'were': 679,\n",
       " 'die': 139,\n",
       " 'tomorrow': 625,\n",
       " 'learn': 348,\n",
       " 'forever': 220,\n",
       " 'darkness': 129,\n",
       " 'cannot': 91,\n",
       " 'drive': 164,\n",
       " 'light': 356,\n",
       " 'hate': 270,\n",
       " 'clever': 103,\n",
       " 'sometimes': 562,\n",
       " 'understand': 647,\n",
       " 'single': 549,\n",
       " 'word': 704,\n",
       " 'saying': 521,\n",
       " 'music': 408,\n",
       " 'would': 713,\n",
       " 'mistake': 400,\n",
       " 'constantly': 116,\n",
       " 'trying': 640,\n",
       " 'something': 561,\n",
       " 'greatest': 256,\n",
       " 'accomplishment': 8,\n",
       " 'here': 281,\n",
       " 'crazy': 123,\n",
       " 'ones': 437,\n",
       " 'misfits': 398,\n",
       " 'rebels': 493,\n",
       " 'troublemakers': 635,\n",
       " 'round': 510,\n",
       " 'pegs': 453,\n",
       " 'square': 570,\n",
       " 'holes': 289,\n",
       " 'differently': 142,\n",
       " 'they': 608,\n",
       " 'fond': 217,\n",
       " 'rules': 511,\n",
       " 'respect': 500,\n",
       " 'for': 219,\n",
       " 'status': 574,\n",
       " 'quo': 479,\n",
       " 'quote': 480,\n",
       " 'disagree': 144,\n",
       " 'with': 695,\n",
       " 'glorify': 243,\n",
       " 'or': 442,\n",
       " 'vilify': 658,\n",
       " 'ignore': 301,\n",
       " 'push': 474,\n",
       " 'race': 481,\n",
       " 'forward': 223,\n",
       " 'while': 685,\n",
       " 'some': 558,\n",
       " 'we': 675,\n",
       " 'genius': 235,\n",
       " 'think': 611,\n",
       " 'accept': 7,\n",
       " 'insanity': 316,\n",
       " 'doing': 153,\n",
       " 'same': 517,\n",
       " 'again': 13,\n",
       " 'expecting': 189,\n",
       " 'different': 141,\n",
       " 'results': 502,\n",
       " 'believe': 61,\n",
       " 'happens': 262,\n",
       " 'reason': 491,\n",
       " 'let': 353,\n",
       " 'go': 244,\n",
       " 'wrong': 714,\n",
       " 'appreciate': 29,\n",
       " 'lies': 354,\n",
       " 'eventually': 180,\n",
       " 'trust': 638,\n",
       " 'apart': 28,\n",
       " 'together': 624,\n",
       " 'twenty': 642,\n",
       " 'years': 715,\n",
       " 'from': 230,\n",
       " 'now': 428,\n",
       " 'more': 403,\n",
       " 'disappointed': 145,\n",
       " 'by': 87,\n",
       " 'didn': 138,\n",
       " 'throw': 618,\n",
       " 'off': 431,\n",
       " 'bowlines': 77,\n",
       " 'sail': 515,\n",
       " 'away': 42,\n",
       " 'safe': 513,\n",
       " 'harbor': 265,\n",
       " 'catch': 92,\n",
       " 'trade': 628,\n",
       " 'winds': 691,\n",
       " 'sails': 516,\n",
       " 'explore': 192,\n",
       " 'dream': 161,\n",
       " 'discover': 147,\n",
       " 'hated': 271,\n",
       " 'loved': 371,\n",
       " 'truly': 637,\n",
       " 'find': 212,\n",
       " 'completely': 112,\n",
       " 'turn': 641,\n",
       " 'around': 33,\n",
       " 'shared': 538,\n",
       " 'absorb': 6,\n",
       " 'actually': 10,\n",
       " 'hear': 275,\n",
       " 'share': 537,\n",
       " 'hopes': 291,\n",
       " 'future': 233,\n",
       " 'come': 108,\n",
       " 'true': 636,\n",
       " 'goals': 245,\n",
       " 'achieved': 9,\n",
       " 'disappointments': 146,\n",
       " 'has': 269,\n",
       " 'thrown': 619,\n",
       " 'wonderful': 702,\n",
       " 'wait': 661,\n",
       " 'knowing': 336,\n",
       " 'excitement': 186,\n",
       " 'embarrassed': 169,\n",
       " 'hurting': 297,\n",
       " 'laugh': 342,\n",
       " 'fool': 218,\n",
       " 'feelings': 208,\n",
       " 'rather': 484,\n",
       " 'build': 85,\n",
       " 'show': 540,\n",
       " 'special': 568,\n",
       " 'even': 179,\n",
       " 'beautiful': 48,\n",
       " 'any': 26,\n",
       " 'pressure': 468,\n",
       " 'jealousy': 330,\n",
       " 'competition': 110,\n",
       " 'quiet': 477,\n",
       " 'calmness': 89,\n",
       " 'worry': 709,\n",
       " 'seem': 529,\n",
       " 'insignificant': 319,\n",
       " 'such': 586,\n",
       " 'note': 425,\n",
       " 'song': 564,\n",
       " 'become': 51,\n",
       " 'invaluable': 324,\n",
       " 'treasures': 632,\n",
       " 'kept': 333,\n",
       " 'heart': 276,\n",
       " 'cherish': 96,\n",
       " 'memories': 393,\n",
       " 'childhood': 98,\n",
       " 'back': 43,\n",
       " 'clear': 102,\n",
       " 'vivid': 659,\n",
       " 'being': 59,\n",
       " 'young': 720,\n",
       " 'colours': 106,\n",
       " 'brighter': 80,\n",
       " 'brilliant': 81,\n",
       " 'laughter': 344,\n",
       " 'seems': 530,\n",
       " 'part': 450,\n",
       " 'daily': 126,\n",
       " 'where': 683,\n",
       " 'before': 55,\n",
       " 'was': 669,\n",
       " 'infrequent': 314,\n",
       " 'phone': 458,\n",
       " 'call': 88,\n",
       " 'during': 165,\n",
       " 'day': 130,\n",
       " 'helps': 279,\n",
       " 'get': 238,\n",
       " 'through': 617,\n",
       " 'long': 364,\n",
       " 'work': 706,\n",
       " 'brings': 83,\n",
       " 'face': 194,\n",
       " 'their': 604,\n",
       " 'presence': 466,\n",
       " 'need': 416,\n",
       " 'continuous': 119,\n",
       " 'conversation': 121,\n",
       " 'quite': 478,\n",
       " 'content': 117,\n",
       " 'having': 273,\n",
       " 'nearby': 414,\n",
       " 'interested': 321,\n",
       " 'fascinating': 203,\n",
       " 'important': 305,\n",
       " 'this': 612,\n",
       " 'person': 457,\n",
       " 'every': 182,\n",
       " 'occasion': 429,\n",
       " 'simple': 545,\n",
       " 'bring': 82,\n",
       " 'pale': 449,\n",
       " 'blue': 70,\n",
       " 'sky': 550,\n",
       " 'gentle': 236,\n",
       " 'wind': 690,\n",
       " 'storm': 579,\n",
       " 'cloud': 105,\n",
       " 'horizon': 292,\n",
       " 'open': 439,\n",
       " 'chance': 94,\n",
       " 'broken': 84,\n",
       " 'opening': 440,\n",
       " 'experience': 190,\n",
       " 'joy': 331,\n",
       " 'dreamed': 162,\n",
       " 'possible': 463,\n",
       " 'vulnerable': 660,\n",
       " 'way': 673,\n",
       " 'allow': 16,\n",
       " 'pleasure': 461,\n",
       " 'real': 488,\n",
       " 'scares': 523,\n",
       " 'strength': 581,\n",
       " 'possibly': 464,\n",
       " 'mate': 386,\n",
       " 'remain': 496,\n",
       " 'loyal': 374,\n",
       " 'end': 171,\n",
       " 'exciting': 187,\n",
       " 'worthwhile': 712,\n",
       " 'hope': 290,\n",
       " 'security': 527,\n",
       " 'gold': 249,\n",
       " 'does': 150,\n",
       " 'glitter': 241,\n",
       " 'wander': 665,\n",
       " 'lost': 369,\n",
       " 'old': 433,\n",
       " 'strong': 583,\n",
       " 'wither': 696,\n",
       " 'deep': 133,\n",
       " 'roots': 509,\n",
       " 'reached': 486,\n",
       " 'frost': 232,\n",
       " 'ashes': 38,\n",
       " 'fire': 213,\n",
       " 'shall': 536,\n",
       " 'woken': 698,\n",
       " 'shadows': 535,\n",
       " 'spring': 569,\n",
       " 'renewed': 499,\n",
       " 'blade': 69,\n",
       " 'crownless': 124,\n",
       " 'king': 334,\n",
       " 'our': 444,\n",
       " 'choices': 100,\n",
       " 'harry': 268,\n",
       " 'far': 202,\n",
       " 'abilities': 2,\n",
       " 'imperfection': 304,\n",
       " 'beauty': 49,\n",
       " 'madness': 377,\n",
       " 'absolutely': 5,\n",
       " 'ridiculous': 503,\n",
       " 'boring': 74,\n",
       " 'gentleman': 237,\n",
       " 'lady': 340,\n",
       " 'novel': 427,\n",
       " 'must': 409,\n",
       " 'intolerably': 323,\n",
       " 'stupid': 584,\n",
       " 'dwell': 166,\n",
       " 'ways': 674,\n",
       " 'though': 614,\n",
       " 'miracle': 397,\n",
       " 'other': 443,\n",
       " 'read': 487,\n",
       " 'fell': 209,\n",
       " 'slowly': 553,\n",
       " 'friends': 228,\n",
       " 'sleepy': 551,\n",
       " 'conscience': 113,\n",
       " 'ideal': 299,\n",
       " 'silent': 544,\n",
       " 'risk': 505,\n",
       " 'talk': 596,\n",
       " 'remove': 498,\n",
       " 'doubt': 156,\n",
       " 'doth': 155,\n",
       " 'wise': 693,\n",
       " 'himself': 285,\n",
       " 'us': 654,\n",
       " 'making': 382,\n",
       " 'plans': 460,\n",
       " 'whenever': 682,\n",
       " 'side': 541,\n",
       " 'majority': 379,\n",
       " 'reform': 495,\n",
       " 'pause': 452,\n",
       " 'reflect': 494,\n",
       " 'gutter': 257,\n",
       " 'looking': 368,\n",
       " 'stars': 572,\n",
       " 'fairy': 198,\n",
       " 'tales': 595,\n",
       " 'dragons': 159,\n",
       " 'beaten': 47,\n",
       " 'yesterday': 717,\n",
       " 'history': 288,\n",
       " 'mystery': 412,\n",
       " 'today': 623,\n",
       " 'gift': 239,\n",
       " 'god': 246,\n",
       " 'which': 684,\n",
       " 'why': 688,\n",
       " 'present': 467,\n",
       " 'woman': 699,\n",
       " 'tea': 597,\n",
       " 'bag': 45,\n",
       " 'until': 651,\n",
       " 'hot': 293,\n",
       " 'water': 672,\n",
       " 'failed': 196,\n",
       " 'found': 224,\n",
       " '10': 1,\n",
       " '000': 0,\n",
       " 'won': 701,\n",
       " 'advantage': 11,\n",
       " 'opposite': 441,\n",
       " 'indifference': 310,\n",
       " 'art': 35,\n",
       " 'ugliness': 645,\n",
       " 'faith': 199,\n",
       " 'heresy': 282,\n",
       " 'death': 132,\n",
       " 'lack': 339,\n",
       " 'makes': 381,\n",
       " 'unhappy': 648,\n",
       " 'marriages': 385,\n",
       " 'stand': 571,\n",
       " 'gone': 250,\n",
       " 'intended': 320,\n",
       " 'ended': 172,\n",
       " 'needed': 417,\n",
       " 'solemnly': 557,\n",
       " 'swear': 591,\n",
       " 'outside': 447,\n",
       " 'dog': 152,\n",
       " 'book': 72,\n",
       " 'inside': 318,\n",
       " 'dark': 128,\n",
       " 'simply': 546,\n",
       " 'problems': 473,\n",
       " 'pride': 470,\n",
       " 'loving': 373,\n",
       " 'intimate': 322,\n",
       " 'hand': 259,\n",
       " 'upon': 653,\n",
       " 'chest': 97,\n",
       " 'eyes': 193,\n",
       " 'close': 104,\n",
       " 'an': 22,\n",
       " 'artist': 36,\n",
       " 'draw': 160,\n",
       " 'freely': 226,\n",
       " 'imagination': 302,\n",
       " 'knowledge': 337,\n",
       " 'limited': 358,\n",
       " 'encircles': 170,\n",
       " 'nonsense': 423,\n",
       " 'wakes': 663,\n",
       " 'brain': 78,\n",
       " 'cells': 93,\n",
       " 'fantasy': 201,\n",
       " 'necessary': 415,\n",
       " 'ingredient': 315,\n",
       " 'living': 362,\n",
       " 'children': 99,\n",
       " 'story': 580,\n",
       " 'enjoyed': 174,\n",
       " 'slightest': 552,\n",
       " 'happiness': 263,\n",
       " 'harmony': 267,\n",
       " 'terribly': 600,\n",
       " 'difficult': 143,\n",
       " 'since': 547,\n",
       " 'consists': 115,\n",
       " 'principally': 471,\n",
       " 'dealings': 131,\n",
       " 'men': 394,\n",
       " 'well': 678,\n",
       " 'behaved': 57,\n",
       " 'women': 700,\n",
       " 'seldom': 531,\n",
       " 'starting': 573,\n",
       " 'improve': 307,\n",
       " 'aren': 31,\n",
       " 'worth': 711,\n",
       " 'saving': 519,\n",
       " 'saddest': 512,\n",
       " 'aspect': 40,\n",
       " 'science': 524,\n",
       " 'gathers': 234,\n",
       " 'faster': 204,\n",
       " 'society': 556,\n",
       " 'wisdom': 692,\n",
       " 'granting': 253,\n",
       " 'factory': 195,\n",
       " 'surely': 590,\n",
       " 'weakness': 676,\n",
       " 'armour': 32,\n",
       " 'used': 655,\n",
       " 'longer': 365,\n",
       " 'believed': 62,\n",
       " 'idea': 298,\n",
       " 'mates': 387,\n",
       " 'first': 214,\n",
       " 'sight': 543,\n",
       " 'beginning': 56,\n",
       " 'very': 657,\n",
       " 'few': 210,\n",
       " 'lucky': 375,\n",
       " 'might': 395,\n",
       " 'meet': 392,\n",
       " 'exactly': 185,\n",
       " 'perfect': 455,\n",
       " 'combined': 107,\n",
       " 'flaws': 215,\n",
       " 'arranged': 34,\n",
       " 'allowed': 17,\n",
       " 'separate': 533,\n",
       " 'beings': 60,\n",
       " 'hinge': 286,\n",
       " 'happy': 264,\n",
       " 'continue': 118,\n",
       " 'search': 525,\n",
       " 'meaning': 391,\n",
       " 'doesn': 151,\n",
       " 'less': 352,\n",
       " 'give': 240,\n",
       " 'warm': 668,\n",
       " 'set': 534,\n",
       " 'him': 284,\n",
       " 'rest': 501,\n",
       " 'alone': 18,\n",
       " 'bird': 67,\n",
       " 'net': 419,\n",
       " 'ensnares': 176,\n",
       " 'free': 225,\n",
       " 'independent': 309,\n",
       " 'becoming': 53,\n",
       " 'fearless': 206,\n",
       " 'isn': 327,\n",
       " 'point': 462,\n",
       " 'impossible': 306,\n",
       " 'learning': 350,\n",
       " 'fear': 205,\n",
       " 'above': 4,\n",
       " 'watch': 670,\n",
       " 'glittering': 242,\n",
       " 'whole': 687,\n",
       " 'secrets': 526,\n",
       " 'hidden': 283,\n",
       " 'unlikely': 650,\n",
       " 'places': 459,\n",
       " 'magic': 378,\n",
       " 'going': 248,\n",
       " 'road': 506,\n",
       " 'pretty': 469,\n",
       " 'radiant': 482,\n",
       " 'sun': 588,\n",
       " 'miss': 399,\n",
       " 'breaths': 79,\n",
       " 'after': 12,\n",
       " 'laughing': 343,\n",
       " 'sore': 565,\n",
       " 'stomach': 577,\n",
       " 'reasons': 492,\n",
       " 'strive': 582,\n",
       " 'becomes': 52,\n",
       " 'takentwo': 594,\n",
       " 'roads': 507,\n",
       " 'diverged': 148,\n",
       " 'yellow': 716,\n",
       " 'wood': 703,\n",
       " 'sorry': 566,\n",
       " 'could': 122,\n",
       " 'travel': 629,\n",
       " 'both': 76,\n",
       " 'traveler': 631,\n",
       " 'stood': 578,\n",
       " 'looked': 367,\n",
       " 'down': 158,\n",
       " 'bent': 63,\n",
       " 'undergrowth': 646,\n",
       " 'took': 627,\n",
       " 'fair': 197,\n",
       " 'perhaps': 456,\n",
       " 'claim': 101,\n",
       " 'grassy': 254,\n",
       " 'wanted': 667,\n",
       " 'wear': 677,\n",
       " 'passing': 451,\n",
       " 'had': 258,\n",
       " 'worn': 708,\n",
       " 'really': 490,\n",
       " 'morning': 404,\n",
       " 'equally': 177,\n",
       " 'lay': 345,\n",
       " 'leaves': 351,\n",
       " 'step': 575,\n",
       " 'trodden': 634,\n",
       " 'black': 68,\n",
       " 'oh': 432,\n",
       " 'yet': 718,\n",
       " 'leads': 346,\n",
       " 'doubted': 157,\n",
       " 'should': 539,\n",
       " 'ever': 181,\n",
       " 'telling': 599,\n",
       " 'sigh': 542,\n",
       " 'somewhere': 563,\n",
       " 'ages': 14,\n",
       " 'hence': 280,\n",
       " 'traveled': 630,\n",
       " 'difference': 140,\n",
       " 'needing': 418,\n",
       " 'putting': 475,\n",
       " 'bad': 44,\n",
       " 'qualities': 476,\n",
       " 'somehow': 559,\n",
       " 'complete': 111,\n",
       " 'great': 255,\n",
       " 'power': 465,\n",
       " 'comes': 109,\n",
       " 'nap': 413,\n",
       " 'wake': 662,\n",
       " 'later': 341,\n",
       " 'despair': 136,\n",
       " 'been': 54,\n",
       " 'tyrants': 644,\n",
       " 'murderers': 407,\n",
       " 'invincible': 325,\n",
       " 'ourselves': 445,\n",
       " 'desire': 135,\n",
       " 'satisfy': 518,\n",
       " 'probable': 472,\n",
       " 'explanation': 191,\n",
       " 'itself': 329}"
      ]
     },
     "execution_count": 28,
     "metadata": {},
     "output_type": "execute_result"
    }
   ],
   "source": [
    "cv.vocabulary_"
   ]
  },
  {
   "cell_type": "code",
   "execution_count": 29,
   "metadata": {},
   "outputs": [
    {
     "data": {
      "text/plain": [
       "array([0, 0, 0, 0, 0, 0, 0, 0, 0, 0, 0, 0, 0, 0, 0, 0, 0, 0, 0, 0, 0, 0,\n",
       "       0, 0, 0, 0, 0, 0, 0, 0, 0, 0, 0, 0, 0, 0, 0, 0, 0, 0, 0, 0, 0, 0,\n",
       "       0, 0, 0, 0, 0, 0, 2, 0, 0, 0, 0, 0, 0, 0, 0, 0, 0, 0, 0, 0, 0, 0,\n",
       "       0, 0, 0, 0, 0, 0, 0, 0, 0, 0, 0, 0, 0, 0, 0, 0, 0, 0, 0, 0, 0, 0,\n",
       "       0, 0, 0, 0, 0, 0, 0, 0, 0, 0, 0, 0, 0, 0, 0, 0, 0, 0, 0, 0, 0, 0,\n",
       "       0, 0, 0, 0, 0, 0, 0, 0, 0, 0, 0, 0, 0, 0, 0, 1, 0, 0, 0, 0, 0, 0,\n",
       "       0, 0, 0, 0, 0, 0, 0, 0, 0, 0, 0, 0, 0, 0, 0, 0, 0, 0, 0, 0, 0, 0,\n",
       "       1, 0, 0, 0, 0, 0, 0, 0, 0, 0, 0, 0, 0, 0, 0, 0, 0, 0, 0, 0, 0, 0,\n",
       "       0, 0, 0, 0, 0, 0, 0, 0, 0, 0, 0, 0, 0, 0, 0, 0, 0, 0, 0, 0, 0, 0,\n",
       "       0, 0, 0, 0, 0, 0, 0, 0, 0, 0, 0, 0, 0, 0, 0, 0, 0, 0, 0, 0, 0, 0,\n",
       "       0, 0, 0, 0, 0, 0, 0, 0, 0, 0, 0, 0, 0, 0, 0, 0, 0, 0, 0, 0, 0, 0,\n",
       "       0, 0, 0, 0, 0, 0, 0, 0, 0, 0, 0, 0, 0, 0, 0, 0, 0, 0, 0, 1, 0, 0,\n",
       "       0, 0, 0, 0, 0, 0, 0, 0, 0, 0, 0, 0, 0, 0, 0, 0, 0, 0, 0, 0, 0, 0,\n",
       "       0, 0, 0, 0, 0, 0, 0, 0, 0, 0, 0, 0, 0, 0, 0, 0, 0, 0, 0, 0, 0, 0,\n",
       "       0, 0, 0, 0, 0, 0, 0, 0, 0, 0, 0, 0, 0, 0, 0, 0, 0, 0, 0, 0, 2, 0,\n",
       "       0, 0, 0, 0, 0, 0, 0, 0, 0, 0, 0, 0, 0, 0, 0, 0, 0, 0, 0, 0, 0, 0,\n",
       "       0, 0, 0, 0, 0, 0, 0, 0, 0, 0, 0, 0, 0, 0, 0, 0, 0, 0, 0, 0, 0, 0,\n",
       "       0, 0, 0, 0, 0, 0, 0, 0, 0, 0, 0, 0, 0, 0, 0, 0, 0, 0, 0, 0, 0, 0,\n",
       "       0, 0, 0, 0, 0, 0, 0, 0, 0, 0, 0, 0, 0, 0, 0, 0, 0, 0, 0, 0, 0, 0,\n",
       "       0, 0, 0, 0, 0, 0, 0, 0, 0, 0, 0, 0, 0, 0, 0, 0, 0, 0, 0, 0, 0, 0,\n",
       "       0, 0, 0, 0, 0, 0, 0, 0, 1, 0, 0, 0, 0, 0, 0, 0, 0, 0, 0, 0, 0, 0,\n",
       "       0, 0, 0, 0, 0, 0, 0, 0, 0, 0, 0, 0, 0, 0, 0, 0, 0, 0, 0, 0, 0, 0,\n",
       "       0, 0, 0, 0, 0, 0, 0, 0, 0, 0, 0, 0, 0, 0, 0, 0, 0, 0, 0, 0, 0, 0,\n",
       "       0, 0, 0, 0, 0, 0, 0, 0, 0, 0, 0, 0, 0, 0, 0, 0, 0, 0, 0, 0, 0, 0,\n",
       "       0, 0, 0, 0, 0, 0, 0, 0, 0, 0, 0, 0, 0, 0, 0, 0, 0, 0, 0, 0, 0, 0,\n",
       "       0, 0, 0, 0, 1, 0, 0, 0, 0, 0, 0, 0, 0, 0, 0, 0, 0, 0, 0, 0, 0, 0,\n",
       "       0, 0, 0, 0, 0, 0, 0, 0, 0, 0, 0, 0, 0, 0, 0, 0, 0, 0, 0, 0, 0, 0,\n",
       "       0, 0, 0, 0, 0, 0, 0, 0, 0, 0, 0, 0, 0, 0, 0, 0, 0, 0, 0, 0, 0, 0,\n",
       "       0, 0, 0, 0, 0, 0, 0, 0, 0, 0, 0, 0, 0, 0, 0, 0, 0, 0, 0, 0, 0, 0,\n",
       "       0, 0, 0, 0, 0, 0, 0, 0, 0, 0, 0, 0, 0, 0, 0, 0, 0, 0, 0, 0, 0, 0,\n",
       "       0, 0, 0, 0, 0, 0, 0, 0, 0, 0, 0, 0, 0, 0, 0, 0, 0, 0, 0, 0, 0, 0,\n",
       "       0, 0, 0, 0, 0, 0, 0, 0, 0, 0, 0, 0, 0, 0, 0, 0, 0, 0, 0, 0, 0, 0,\n",
       "       0, 0, 0, 0, 0, 0, 0, 0, 0, 0, 0, 0, 0, 0, 0, 0, 0, 0, 0],\n",
       "      dtype=int64)"
      ]
     },
     "execution_count": 29,
     "metadata": {},
     "output_type": "execute_result"
    }
   ],
   "source": [
    "vec.toarray()[0]"
   ]
  },
  {
   "cell_type": "code",
   "execution_count": 74,
   "metadata": {},
   "outputs": [
    {
     "data": {
      "text/plain": [
       "[array(['because', 'cry', 'don', 'happened', 'it', 'over', 'smile'],\n",
       "       dtype='<U15')]"
      ]
     },
     "execution_count": 74,
     "metadata": {},
     "output_type": "execute_result"
    }
   ],
   "source": [
    "cv.inverse_transform(vec.toarray()[0])"
   ]
  },
  {
   "cell_type": "markdown",
   "metadata": {},
   "source": [
    "\n",
    "## Parts Of Speech (POS) Tagging\n",
    "## Named Entity Recognition (NER)"
   ]
  },
  {
   "cell_type": "code",
   "execution_count": 59,
   "metadata": {},
   "outputs": [
    {
     "name": "stdout",
     "output_type": "stream",
     "text": [
      "I no longer believed in the idea of soul mates, or love at first sight. But I was beginning to believe that a very few times in your life, if you were lucky, you might meet someone who was exactly right for you. Not because he was perfect, or because you were, but because your combined flaws were arranged in a way that allowed two separate beings to hinge together.\n"
     ]
    },
    {
     "data": {
      "text/plain": [
       "[('I', 'PRP'),\n",
       " ('no', 'RB'),\n",
       " ('longer', 'RBR'),\n",
       " ('believed', 'VBN'),\n",
       " ('in', 'IN'),\n",
       " ('the', 'DT'),\n",
       " ('idea', 'NN'),\n",
       " ('of', 'IN'),\n",
       " ('soul', 'NN'),\n",
       " ('mates', 'NNS')]"
      ]
     },
     "execution_count": 59,
     "metadata": {},
     "output_type": "execute_result"
    }
   ],
   "source": [
    "q = quotes[100]['quote']\n",
    "print(q)\n",
    "tokenized_q = word_tokenize(q)\n",
    "pos_tagged = nltk.pos_tag(tokenized_q)\n",
    "pos_tagged[:10]"
   ]
  },
  {
   "cell_type": "code",
   "execution_count": 43,
   "metadata": {},
   "outputs": [
    {
     "data": {
      "text/plain": [
       "['adventure',\n",
       " 'belles_lettres',\n",
       " 'editorial',\n",
       " 'fiction',\n",
       " 'government',\n",
       " 'hobbies',\n",
       " 'humor',\n",
       " 'learned',\n",
       " 'lore',\n",
       " 'mystery',\n",
       " 'news',\n",
       " 'religion',\n",
       " 'reviews',\n",
       " 'romance',\n",
       " 'science_fiction']"
      ]
     },
     "execution_count": 43,
     "metadata": {},
     "output_type": "execute_result"
    }
   ],
   "source": [
    "from nltk.corpus import brown\n",
    "brown.categories()"
   ]
  },
  {
   "cell_type": "code",
   "execution_count": 44,
   "metadata": {},
   "outputs": [
    {
     "data": {
      "text/plain": [
       "3032"
      ]
     },
     "execution_count": 44,
     "metadata": {},
     "output_type": "execute_result"
    }
   ],
   "source": [
    "sents = brown.sents(categories='government')\n",
    "len(sents)"
   ]
  },
  {
   "cell_type": "code",
   "execution_count": 53,
   "metadata": {},
   "outputs": [
    {
     "data": {
      "text/plain": [
       "['The',\n",
       " 'Office',\n",
       " 'of',\n",
       " 'Business',\n",
       " 'Economics',\n",
       " '(',\n",
       " 'OBE',\n",
       " ')',\n",
       " 'of',\n",
       " 'the',\n",
       " 'U.S.',\n",
       " 'Department',\n",
       " 'of',\n",
       " 'Commerce',\n",
       " 'provides',\n",
       " 'basic',\n",
       " 'measures',\n",
       " 'of',\n",
       " 'the',\n",
       " 'national',\n",
       " 'economy',\n",
       " 'and',\n",
       " 'current',\n",
       " 'analysis',\n",
       " 'of',\n",
       " 'short-run',\n",
       " 'changes',\n",
       " 'in',\n",
       " 'the',\n",
       " 'economic',\n",
       " 'situation',\n",
       " 'and',\n",
       " 'business',\n",
       " 'outlook',\n",
       " '.']"
      ]
     },
     "execution_count": 53,
     "metadata": {},
     "output_type": "execute_result"
    }
   ],
   "source": [
    "sents[0]"
   ]
  },
  {
   "cell_type": "code",
   "execution_count": 52,
   "metadata": {},
   "outputs": [
    {
     "data": {
      "image/png": "[encoded data removed]",
      "text/plain": [
       "Tree('S', [('The', 'DT'), ('Office', 'NNP'), ('of', 'IN'), Tree('ORGANIZATION', [('Business', 'NNP'), ('Economics', 'NNP')]), ('(', '('), Tree('ORGANIZATION', [('OBE', 'NNP')]), (')', ')'), ('of', 'IN'), ('the', 'DT'), Tree('ORGANIZATION', [('U.S.', 'NNP'), ('Department', 'NNP')]), ('of', 'IN'), Tree('ORGANIZATION', [('Commerce', 'NNP')]), ('provides', 'VBZ'), ('basic', 'JJ'), ('measures', 'NNS'), ('of', 'IN'), ('the', 'DT'), ('national', 'JJ'), ('economy', 'NN'), ('and', 'CC'), ('current', 'JJ'), ('analysis', 'NN'), ('of', 'IN'), ('short-run', 'JJ'), ('changes', 'NNS'), ('in', 'IN'), ('the', 'DT'), ('economic', 'JJ'), ('situation', 'NN'), ('and', 'CC'), ('business', 'NN'), ('outlook', 'NN'), ('.', '.')])"
      ]
     },
     "execution_count": 52,
     "metadata": {},
     "output_type": "execute_result"
    }
   ],
   "source": [
    "nltk.ne_chunk(nltk.pos_tag(sents[0]))"
   ]
  },
  {
   "cell_type": "markdown",
   "metadata": {},
   "source": [
    "# N-Grams"
   ]
  },
  {
   "cell_type": "code",
   "execution_count": 58,
   "metadata": {},
   "outputs": [
    {
     "name": "stdout",
     "output_type": "stream",
     "text": [
      "[('Hi', 'How'), ('How', 'are'), ('are', 'you')]\n",
      "[('Hi', 'How', 'are'), ('How', 'are', 'you')]\n"
     ]
    }
   ],
   "source": [
    "from nltk import bigrams, trigrams, ngrams\n",
    "\n",
    "print(list(bigrams([\"Hi\", \"How\", \"are\", \"you\"])))\n",
    "print(list(trigrams([\"Hi\", \"How\", \"are\", \"you\"])))"
   ]
  },
  {
   "cell_type": "code",
   "execution_count": 62,
   "metadata": {},
   "outputs": [
    {
     "data": {
      "text/plain": [
       "4482"
      ]
     },
     "execution_count": 62,
     "metadata": {},
     "output_type": "execute_result"
    }
   ],
   "source": [
    "cv = CountVectorizer(ngram_range=(1,3))\n",
    "vec = cv.fit_transform(all_quotes)\n",
    "len(cv.vocabulary_)"
   ]
  },
  {
   "cell_type": "markdown",
   "metadata": {},
   "source": [
    "# TF-IDF\n",
    "- Term Frequency - Inverse Document Frequency"
   ]
  },
  {
   "cell_type": "code",
   "execution_count": 65,
   "metadata": {},
   "outputs": [],
   "source": [
    "from sklearn.feature_extraction.text import TfidfVectorizer\n",
    "tfidf = TfidfVectorizer(ngram_range=(1,2))\n",
    "weighted_vec = tfidf.fit_transform(all_quotes)"
   ]
  },
  {
   "cell_type": "code",
   "execution_count": 67,
   "metadata": {},
   "outputs": [
    {
     "data": {
      "text/plain": [
       "2540"
      ]
     },
     "execution_count": 67,
     "metadata": {},
     "output_type": "execute_result"
    }
   ],
   "source": [
    "len(tfidf.vocabulary_)"
   ]
  },
  {
   "cell_type": "code",
   "execution_count": 72,
   "metadata": {},
   "outputs": [
    {
     "data": {
      "text/plain": [
       "array([0.31923321, 0.46867695, 0.23433847, 0.24769478, 0.16997656,\n",
       "       0.24769478, 0.24769478, 0.25257847, 0.24769478, 0.24769478,\n",
       "       0.21551382, 0.24769478, 0.23433847, 0.24769478])"
      ]
     },
     "execution_count": 72,
     "metadata": {},
     "output_type": "execute_result"
    }
   ],
   "source": [
    "w = weighted_vec.toarray()[0]\n",
    "w[w!=0]"
   ]
  },
  {
   "cell_type": "code",
   "execution_count": null,
   "metadata": {},
   "outputs": [],
   "source": []
  }
 ],
 "metadata": {
  "kernelspec": {
   "display_name": "Python 3",
   "language": "python",
   "name": "python3"
  },
  "language_info": {
   "codemirror_mode": {
    "name": "ipython",
    "version": 3
   },
   "file_extension": ".py",
   "mimetype": "text/x-python",
   "name": "python",
   "nbconvert_exporter": "python",
   "pygments_lexer": "ipython3",
   "version": "3.7.0"
  }
 },
 "nbformat": 4,
 "nbformat_minor": 2
}
