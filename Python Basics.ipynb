{
 "cells": [
  {
   "cell_type": "markdown",
   "metadata": {},
   "source": [
    "# Basics\n",
    "- Interactive Shell (+ ipython)\n",
    "- Python and Jupyter Notebook\n",
    "- Indentation\n",
    "- Printing\n",
    "- Comments\n",
    "- Taking input\n",
    "- Variable declaration, definition, assignment (strongly-dynamically typed)"
   ]
  },
  {
   "cell_type": "code",
   "execution_count": null,
   "metadata": {},
   "outputs": [],
   "source": [
    "Python => High-level Interpreted Object-Oriented\n",
    "Indentation => Block Readability Tabs Spaces Jupyter Spaces generally 4-4"
   ]
  },
  {
   "cell_type": "code",
   "execution_count": 317,
   "metadata": {},
   "outputs": [
    {
     "name": "stdout",
     "output_type": "stream",
     "text": [
      "Hello World 1 2 Bye World\n",
      "this is my world.Hello Mr. Pratulya\n",
      "Please enter your name: Bob\n",
      "Thanks for entering your name, Bob\n",
      "Hello Mr. Bob\n"
     ]
    }
   ],
   "source": [
    "print(\"Hello World\", 1, 2, \"Bye World\")\n",
    "print('this','is','my','world', sep=' ', end='.') # Escape characters\n",
    "print('Hello Mr. %s' % \"Pratulya\")\n",
    "# Code commented for now\n",
    "\n",
    "# C++\n",
    "a = 1\n",
    "a_ = 1\n",
    "_ = 1\n",
    "_a = 1\n",
    "\n",
    "# Input\n",
    "a = input(\"Please enter your name: \")\n",
    "print(\"Thanks for entering your name,\", a)\n",
    "print('Hello Mr. %s' % a)"
   ]
  },
  {
   "cell_type": "markdown",
   "metadata": {},
   "source": [
    "# Data Types\n",
    "- type()\n",
    "- Numeric\n",
    "    - Integer\n",
    "    - Float\n",
    "- String\n",
    "- Boolean\n",
    "- Complex\n",
    "- None\n",
    "- Type Casting VS Type Coercion"
   ]
  },
  {
   "cell_type": "code",
   "execution_count": 25,
   "metadata": {},
   "outputs": [
    {
     "name": "stdout",
     "output_type": "stream",
     "text": [
      "1 False 1e-12\n",
      "Type of 1 is <class 'int'>\n",
      "Type of 2.1 is <class 'float'>\n",
      "Type of 1e-12 is <class 'float'>\n",
      "Type of Hello is <class 'str'>\n",
      "Type of True is <class 'bool'>\n",
      "Type of False is <class 'bool'>\n",
      "Type of (1+2j) is <class 'complex'>\n"
     ]
    }
   ],
   "source": [
    "type(1)\n",
    "\n",
    "i = 1\n",
    "fl = 2.1\n",
    "f1 = 1e-12\n",
    "print(i, f, f1)\n",
    "\n",
    "s = 'Hello'\n",
    "\n",
    "t = True\n",
    "f = False\n",
    "\n",
    "c = 1+2j\n",
    "\n",
    "print(\"Type of {} is {}\".format(i, type(i)),\n",
    "      \"Type of {} is {}\".format(fl, type(fl)),\n",
    "      \"Type of {} is {}\".format(f1, type(f1)),\n",
    "      \"Type of {} is {}\".format(s, type(s)),\n",
    "      \"Type of {} is {}\".format(t, type(t)),\n",
    "      \"Type of {} is {}\".format(f, type(f)),\n",
    "      \"Type of {} is {}\".format(c, type(c)),\n",
    "      sep = '\\n')"
   ]
  },
  {
   "cell_type": "markdown",
   "metadata": {},
   "source": [
    "# Operators and Operations\n",
    "- Arithmetic (+ - * / % ** //)\n",
    "- Comparison (== > < <= >= !=)\n",
    "- Logical (and or not & | ^)\n",
    "- Assigment (+= -= *= /= **=)\n",
    "- Unary (+ - ~)\n",
    "- 'is' operator\n",
    "- [dot] operator"
   ]
  },
  {
   "cell_type": "code",
   "execution_count": 26,
   "metadata": {},
   "outputs": [
    {
     "name": "stdout",
     "output_type": "stream",
     "text": [
      "1\n",
      "4\n",
      "1\n"
     ]
    }
   ],
   "source": [
    "1+2\n",
    "1-2\n",
    "1*2\n",
    "1/2\n",
    "print(1%2)\n",
    "print(2**2)\n",
    "print(4/3)"
   ]
  },
  {
   "cell_type": "code",
   "execution_count": 40,
   "metadata": {},
   "outputs": [
    {
     "name": "stdout",
     "output_type": "stream",
     "text": [
      "0\n",
      "1\n"
     ]
    }
   ],
   "source": [
    "a //= 3\n",
    "print(a)"
   ]
  },
  {
   "cell_type": "code",
   "execution_count": 43,
   "metadata": {},
   "outputs": [
    {
     "data": {
      "text/plain": [
       "True"
      ]
     },
     "execution_count": 43,
     "metadata": {},
     "output_type": "execute_result"
    }
   ],
   "source": []
  },
  {
   "cell_type": "markdown",
   "metadata": {},
   "source": [
    "# Control Flow Statements\n",
    "- Conditional (if-elif-else)\n",
    "- Looping (while, for)\n",
    "    - 'in' operator\n",
    "    - break, continue, pass\n",
    "- Nestings"
   ]
  },
  {
   "cell_type": "code",
   "execution_count": 46,
   "metadata": {},
   "outputs": [
    {
     "name": "stdout",
     "output_type": "stream",
     "text": [
      "Enter Something: 123\n",
      "-==-\n"
     ]
    }
   ],
   "source": [
    "a = input(\"Enter Something: \")\n",
    "if a == \"Hello\":\n",
    "    print(\"World\")\n",
    "elif (a == '1'):\n",
    "    print(2)\n",
    "else:\n",
    "    print(\"-==-\")"
   ]
  },
  {
   "cell_type": "code",
   "execution_count": 73,
   "metadata": {},
   "outputs": [
    {
     "name": "stdout",
     "output_type": "stream",
     "text": [
      "0\n",
      "1\n",
      "2\n",
      "3\n",
      "4\n",
      "6\n"
     ]
    }
   ],
   "source": [
    "# i = 10\n",
    "# while i>0:\n",
    "#     print(i)\n",
    "#     i-=1\n",
    "    \n",
    "# for i in range(10):\n",
    "#     print(' '*(10-i), end='')\n",
    "#     for j in range(i):\n",
    "#         print(j, end='')\n",
    "#     print(i)\n",
    "    \n",
    "# n = int(input(\"Enter N: \"))\n",
    "# for i in range(n+1):\n",
    "#     print(\" \" * (n-i), end=\"\")\n",
    "#     for j in range(i):\n",
    "#         print(\"* \", end=\"\")\n",
    "#     print()\n",
    "    \n",
    "for i in range(10):\n",
    "    if i == 5:\n",
    "        continue\n",
    "    if i == 6:\n",
    "        pass\n",
    "    if i==7:\n",
    "        break\n",
    "    print(i)"
   ]
  },
  {
   "cell_type": "markdown",
   "metadata": {},
   "source": [
    "# Functions\n",
    "- def and return\n",
    "- built-in\n",
    "- Parameters (positional, keyword, default)\n",
    "- *args, **kwargs\n",
    "- returning VS printing\n",
    "- Nesting, decorators\n",
    "- local VS global variables\n",
    "- Recursion: Factorial"
   ]
  },
  {
   "cell_type": "code",
   "execution_count": 84,
   "metadata": {},
   "outputs": [
    {
     "name": "stdout",
     "output_type": "stream",
     "text": [
      "Hello World\n",
      "10\n",
      "12\n",
      "None\n",
      "(10, 10, 12, 12, 3, 1, 2, 5, 1, 2)\n",
      "1 3 1\n"
     ]
    }
   ],
   "source": [
    "def func():\n",
    "    print(\"Hello World\")\n",
    "    return \"Hello World\"\n",
    "func()\n",
    "\n",
    "len(\"Hello World\")\n",
    "\n",
    "def param_func(a):\n",
    "    print(a)\n",
    "param_func(10)\n",
    "a = param_func(12)\n",
    "print(a)\n",
    "\n",
    "def keyworded_func(a, b, c=None):\n",
    "    print(a,b,c)\n",
    "\n",
    "def general_func(*args, **kwargs):\n",
    "    print(args)\n",
    "general_func(10,10,12,12,3,1,2,5,1,2)\n",
    "\n",
    "def f(a,b,c):\n",
    "    print(a,b,c)\n",
    "    \n",
    "f (1,c=1,b=3)"
   ]
  },
  {
   "cell_type": "code",
   "execution_count": 91,
   "metadata": {},
   "outputs": [
    {
     "name": "stdout",
     "output_type": "stream",
     "text": [
      "99\n",
      "100\n"
     ]
    }
   ],
   "source": [
    "# def func_outer(a=99):\n",
    "#     def func_inner(b=a):\n",
    "#         print(b)\n",
    "#         print('--')\n",
    "#         print(a)\n",
    "#     return func_inner\n",
    "\n",
    "# @func_outer\n",
    "# def abc():\n",
    "#     func_outer\n",
    "\n",
    "def fact(n):\n",
    "    if n==0 or n==1:\n",
    "        return 1\n",
    "    return n*fact(n-1)\n",
    "fact(7)\n",
    "\n",
    "var = 100\n",
    "def loc_glob():\n",
    "    var = 99\n",
    "    print(var)\n",
    "loc_glob()\n",
    "print(var)"
   ]
  },
  {
   "cell_type": "markdown",
   "metadata": {},
   "source": [
    "# Data Structures\n",
    "1. List\n",
    "2. Tuple\n",
    "3. Dictionary\n",
    "4. Set"
   ]
  },
  {
   "cell_type": "markdown",
   "metadata": {},
   "source": [
    "## 1. List\n",
    "    - Intialization\n",
    "    - Indexing\n",
    "    - Methods (functions VS methods)\n",
    "    - Operations\n",
    "    - *Slicing\n"
   ]
  },
  {
   "cell_type": "code",
   "execution_count": 119,
   "metadata": {},
   "outputs": [
    {
     "name": "stdout",
     "output_type": "stream",
     "text": [
      "1 5 0\n",
      "[5, 4, 3, 2, 1]\n",
      "[1, 2, 3, 4, 5]\n",
      "[1, 2, 3, 4, 5, 6]\n",
      "[1, 2, 3, 4, 5]\n",
      "[1, 2, 3, 5]\n",
      "[1, 2, 3, 4, 5]\n",
      "[1, 2, 3, 4, 5, 1, 2, 3, 4, 5]\n",
      "[1, 2, 3, 4, 5, 1, 2, 3, 4, 5, 1, 2, 3, 4, 5, 1, 2, 3, 4, 5]\n",
      "5\n"
     ]
    }
   ],
   "source": [
    "a = list()\n",
    "b = []\n",
    "c = [1,2,3,4,5]\n",
    "print(c[0], c[-1], len(a))\n",
    "c.reverse()\n",
    "print(c)\n",
    "c.sort()\n",
    "print(c)\n",
    "c.append(6)\n",
    "print(c)\n",
    "c.pop()\n",
    "print(c)\n",
    "c.remove(4)\n",
    "print(c)\n",
    "c.insert(3, 4)\n",
    "print(c)\n",
    "print(c + c)\n",
    "print(c * 4)\n",
    "print(len(c))"
   ]
  },
  {
   "cell_type": "markdown",
   "metadata": {},
   "source": [
    "### str methods\n",
    "    - split, strip, lower, join...'"
   ]
  },
  {
   "cell_type": "code",
   "execution_count": 132,
   "metadata": {},
   "outputs": [
    {
     "data": {
      "text/plain": [
       "'123 456 789'"
      ]
     },
     "execution_count": 132,
     "metadata": {},
     "output_type": "execute_result"
    }
   ],
   "source": [
    "s = 'q+w+e+r+t+y'\n",
    "s.split('+')\n",
    "\n",
    "s = '    qw e r ty    '\n",
    "s.lstrip()\n",
    "\n",
    "s = 'HELLLLOOOO'\n",
    "s.lower()\n",
    "\n",
    "' '.join(['123','456','789'])"
   ]
  },
  {
   "cell_type": "markdown",
   "metadata": {},
   "source": [
    "## 2. Dictionary\n",
    "    - Initialization\n",
    "    - Methods\n",
    "    - hash()\n",
    "    - Iterating"
   ]
  },
  {
   "cell_type": "code",
   "execution_count": 165,
   "metadata": {},
   "outputs": [
    {
     "name": "stdout",
     "output_type": "stream",
     "text": [
      "<class 'dict'>\n",
      "('a', 97)\n",
      "('b', 98)\n",
      "For key 'a', value stored is 97.\n",
      "For key 'b', value stored is 98.\n"
     ]
    }
   ],
   "source": [
    "d = dict()\n",
    "d = {}\n",
    "d = {'a': 97, 'b': 98}\n",
    "print(type(d))\n",
    "\n",
    "list(d.items())[0]\n",
    "\n",
    "for each in d.items():\n",
    "    print(each)\n",
    "    \n",
    "for k,v in d.items():\n",
    "    print(\"For key '{}', value stored is {}.\".format(k,v))"
   ]
  },
  {
   "cell_type": "markdown",
   "metadata": {},
   "source": [
    "## 3. Tuples\n",
    "    - ''\n",
    "    - Packing, Unpacking"
   ]
  },
  {
   "cell_type": "code",
   "execution_count": 153,
   "metadata": {},
   "outputs": [
    {
     "name": "stdout",
     "output_type": "stream",
     "text": [
      "<class 'tuple'>\n",
      "1 2 3 4\n",
      "(1, 2, 3, 4, 5) <class 'tuple'>\n"
     ]
    }
   ],
   "source": [
    "t = tuple()\n",
    "t = (1,2,3,4)\n",
    "print(type(t))\n",
    "t[-1]\n",
    "\n",
    "a,b,c,d = t\n",
    "print(a,b,c,d)\n",
    "\n",
    "def func(*args):\n",
    "    print(args, type(args))\n",
    "func(1,2,3,4,5)"
   ]
  },
  {
   "cell_type": "markdown",
   "metadata": {},
   "source": [
    "## 4. Set\n",
    "    - ''\n",
    "    - Methods: union, intersection, difference"
   ]
  },
  {
   "cell_type": "code",
   "execution_count": 156,
   "metadata": {},
   "outputs": [
    {
     "data": {
      "text/plain": [
       "{1, 4}"
      ]
     },
     "execution_count": 156,
     "metadata": {},
     "output_type": "execute_result"
    }
   ],
   "source": [
    "s1 = {1,2,3,4}\n",
    "s2 = {2,3}\n",
    "s1.union(s2)\n",
    "s1.difference(s2)"
   ]
  },
  {
   "cell_type": "markdown",
   "metadata": {},
   "source": [
    "## {List | Tuple | Dictionary | Set} Comprehension"
   ]
  },
  {
   "cell_type": "code",
   "execution_count": 169,
   "metadata": {},
   "outputs": [
    {
     "data": {
      "text/plain": [
       "{10}"
      ]
     },
     "execution_count": 169,
     "metadata": {},
     "output_type": "execute_result"
    }
   ],
   "source": [
    "# List\n",
    "\n",
    "[j for i in range(10) for j in range(10)]\n",
    "\n",
    "# Tuple\n",
    "list((j for i in range(10) for j in range(2)))\n",
    "\n",
    "# Dict\n",
    "{k:v for k,v in enumerate(range(10))}\n",
    "\n",
    "# Set\n",
    "{10 for i in range(10)}"
   ]
  },
  {
   "cell_type": "markdown",
   "metadata": {},
   "source": [
    "# Modules | Importing\n",
    "- import __\n",
    "- from __ import __\n",
    "- *"
   ]
  },
  {
   "cell_type": "code",
   "execution_count": 218,
   "metadata": {},
   "outputs": [
    {
     "name": "stdout",
     "output_type": "stream",
     "text": [
      "[2, 3, 4, 5, 1]\n",
      "2\n"
     ]
    }
   ],
   "source": [
    "# import random\n",
    "# from random import choice, shuffle\n",
    "from random import *\n",
    "\n",
    "a = [1,2,3,4,5]\n",
    "choice(a)\n",
    "shuffle(a)\n",
    "print(a)\n",
    "print(randint(1,10))"
   ]
  },
  {
   "cell_type": "markdown",
   "metadata": {},
   "source": [
    "# Object-Oriented Programming"
   ]
  },
  {
   "cell_type": "code",
   "execution_count": 221,
   "metadata": {},
   "outputs": [
    {
     "name": "stdout",
     "output_type": "stream",
     "text": [
      "The person's name is J. W. Edgar\n",
      "The person's name is Foo Bar\n"
     ]
    }
   ],
   "source": [
    "class Person(object):\n",
    "    class_variable = True\n",
    "    \n",
    "    def __init__(self, name, age):\n",
    "        name = name.split()\n",
    "        self.first, self.last = name[0], ' '.join(name[1:])\n",
    "        self.age = age\n",
    "        \n",
    "    def full_name(self):\n",
    "        return self.first + ' ' + self.last\n",
    "        \n",
    "    def __str__(self):\n",
    "        return(\"The person's name is {}\".format(self.full_name()))\n",
    "        \n",
    "persons = [Person(\"J. W. Edgar\", 100), Person(\"Foo Bar\", 0)]\n",
    "for person in persons:\n",
    "    print(person)"
   ]
  },
  {
   "cell_type": "markdown",
   "metadata": {},
   "source": [
    "# Exception Handling\n",
    "- try, catch, finally\n",
    "- NameError, KeyError, TypeError, IndexError"
   ]
  },
  {
   "cell_type": "code",
   "execution_count": 230,
   "metadata": {},
   "outputs": [
    {
     "name": "stdout",
     "output_type": "stream",
     "text": [
      "General exception caught\n",
      "Save Code\n"
     ]
    }
   ],
   "source": [
    "try:\n",
    "    abcd\n",
    "except ZeroDivisionError:\n",
    "    print(\"Whoops\")\n",
    "except Exception:\n",
    "    print(\"General exception caught\")\n",
    "finally:\n",
    "    print(\"Save Code\")"
   ]
  },
  {
   "cell_type": "markdown",
   "metadata": {},
   "source": [
    "# File Handling\n",
    "- access modes\n",
    "- closing file\n",
    "- 'with' syntax\n",
    "- txt, json, csv"
   ]
  },
  {
   "cell_type": "code",
   "execution_count": 302,
   "metadata": {},
   "outputs": [],
   "source": [
    "!echo \"Hello World. This is sample text\" > abc.txt"
   ]
  },
  {
   "cell_type": "code",
   "execution_count": 309,
   "metadata": {},
   "outputs": [
    {
     "name": "stdout",
     "output_type": "stream",
     "text": [
      "Hello World. This is sample text\n",
      "......\n",
      "Hello World. This is sample text\n",
      ".......\n"
     ]
    }
   ],
   "source": [
    "# f = open('abc.txt', 'r')\n",
    "# print(f.read())\n",
    "# f.close()\n",
    "\n",
    "f = open('abc.txt', 'a+')\n",
    "f.seek(0)\n",
    "content = f.read()\n",
    "print(content)\n",
    "f.seek(len(content)-2)\n",
    "f.write('.')\n",
    "f.seek(0)\n",
    "print(f.read())\n",
    "f.close()\n",
    "# f = open('abc.txt', 'r')\n",
    "# print(f.read())\n",
    "# f.close"
   ]
  },
  {
   "cell_type": "code",
   "execution_count": 336,
   "metadata": {},
   "outputs": [
    {
     "name": "stdout",
     "output_type": "stream",
     "text": [
      "{\n",
      "    \"lower\": {\n",
      "        \"a\": 97,\n",
      "        \"b\": 98\n",
      "    },\n",
      "    \"upper\": {\n",
      "        \"A\": 65,\n",
      "        \"B\": 66\n",
      "    }\n",
      "}\n"
     ]
    }
   ],
   "source": [
    "with open('ascii.json', 'r') as f:\n",
    "    print(f.read())"
   ]
  },
  {
   "cell_type": "code",
   "execution_count": 331,
   "metadata": {},
   "outputs": [],
   "source": [
    "import json\n",
    "\n",
    "ascii_values = {\n",
    "        'lower': {'a': 97, 'b': 98},\n",
    "        'upper': {'A': 65, 'B': 66},\n",
    "    }\n",
    "\n",
    "f = open('ascii.json', 'w')\n",
    "json.dump(ascii_values, f, indent=4)\n",
    "f.close()"
   ]
  },
  {
   "cell_type": "code",
   "execution_count": 333,
   "metadata": {},
   "outputs": [
    {
     "name": "stdout",
     "output_type": "stream",
     "text": [
      "{\n",
      "    \"lower\": {\n",
      "        \"a\": 97,\n",
      "        \"b\": 98\n",
      "    },\n",
      "    \"upper\": {\n",
      "        \"A\": 65,\n",
      "        \"B\": 66\n",
      "    }\n",
      "}{'lower': {'a': 97, 'b': 98}, 'upper': {'A': 65, 'B': 66}}\n",
      "<class 'dict'>\n"
     ]
    }
   ],
   "source": [
    "!cat ascii.json\n",
    "f = open('ascii.json', 'r')\n",
    "new_dict = json.load(f)\n",
    "f.close()\n",
    "print(new_dict)\n",
    "print(type(new_dict))"
   ]
  },
  {
   "cell_type": "markdown",
   "metadata": {},
   "source": [
    "# built-in functions\n",
    "- enumerate\n",
    "- sorted (lambda)\n",
    "- all, any\n",
    "- eval\n",
    "- hex, bin"
   ]
  },
  {
   "cell_type": "code",
   "execution_count": 315,
   "metadata": {},
   "outputs": [
    {
     "data": {
      "text/plain": [
       "'0x100'"
      ]
     },
     "execution_count": 315,
     "metadata": {},
     "output_type": "execute_result"
    }
   ],
   "source": [
    "sorted([0,4,-11,-123,1233], reverse=True)\n",
    "\n",
    "any([1,2,3,4])\n",
    "\n",
    "eval(\"list()\")\n",
    "\n",
    "hex(256)"
   ]
  },
  {
   "cell_type": "markdown",
   "metadata": {},
   "source": [
    "### Time for datetime?"
   ]
  }
 ],
 "metadata": {
  "kernelspec": {
   "display_name": "Python 3",
   "language": "python",
   "name": "python3"
  },
  "language_info": {
   "codemirror_mode": {
    "name": "ipython",
    "version": 3
   },
   "file_extension": ".py",
   "mimetype": "text/x-python",
   "name": "python",
   "nbconvert_exporter": "python",
   "pygments_lexer": "ipython3",
   "version": "3.7.0"
  }
 },
 "nbformat": 4,
 "nbformat_minor": 2
}
