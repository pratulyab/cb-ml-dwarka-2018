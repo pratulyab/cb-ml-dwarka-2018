{
 "cells": [
  {
   "cell_type": "markdown",
   "metadata": {},
   "source": [
    "# <center>Intro to RL</center>"
   ]
  },
  {
   "cell_type": "markdown",
   "metadata": {},
   "source": [
    "### Links for the theory discussed\n",
    "- [UCL Intro to RL Slides](http://www0.cs.ucl.ac.uk/staff/D.Silver/web/Teaching_files/intro_RL.pdf)\n",
    "- [Deep RL Intel AI Blog](https://www.intel.ai/demystifying-deep-reinforcement-learning/#gs.3pio4n)\n",
    "- Flappy Bird [Case Study]\n",
    "    - [Stanford Report on FlappyBird](http://cs229.stanford.edu/proj2015/362_report.pdf)\n",
    "    - [Keras DQN FlappyBird](https://github.com/yanpanlau/Keras-FlappyBird)\n",
    "- VS Evolutionary\n",
    "    - [OpenAI](https://openai.com/blog/evolution-strategies/)\n",
    "    - [MIT Tech Review](https://www.technologyreview.com/s/611568/evolutionary-algorithm-outperforms-deep-learning-machines-at-video-games/)\n",
    "\n",
    "\n",
    "# - [UCL lectures - David Silver](http://www0.cs.ucl.ac.uk/staff/D.Silver/web/Teaching.html)"
   ]
  },
  {
   "cell_type": "code",
   "execution_count": null,
   "metadata": {},
   "outputs": [],
   "source": []
  }
 ],
 "metadata": {
  "kernelspec": {
   "display_name": "Python 3",
   "language": "python",
   "name": "python3"
  },
  "language_info": {
   "codemirror_mode": {
    "name": "ipython",
    "version": 3
   },
   "file_extension": ".py",
   "mimetype": "text/x-python",
   "name": "python",
   "nbconvert_exporter": "python",
   "pygments_lexer": "ipython3",
   "version": "3.7.0"
  }
 },
 "nbformat": 4,
 "nbformat_minor": 2
}
